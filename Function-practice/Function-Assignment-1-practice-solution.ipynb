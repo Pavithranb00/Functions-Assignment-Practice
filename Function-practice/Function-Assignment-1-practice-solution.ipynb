{
 "cells": [
  {
   "cell_type": "code",
   "execution_count": 3,
   "metadata": {},
   "outputs": [],
   "source": [
    "#create a function using-Subfields\n",
    "def Subfields():\n",
    "    print(\"Sub-fields in AI are:\")\n",
    "    list=[\"Machine Learning\",\"Neural Networks\",\"Vision\",\"Robotics\",\"Speech Processing\",\"Natural Language Processing\"]\n",
    "    for temp in list:\n",
    "        print(temp)"
   ]
  },
  {
   "cell_type": "code",
   "execution_count": 4,
   "metadata": {},
   "outputs": [
    {
     "name": "stdout",
     "output_type": "stream",
     "text": [
      "Sub-fields in AI are:\n",
      "Machine Learning\n",
      "Neural Networks\n",
      "Vision\n",
      "Robotics\n",
      "Speech Processing\n",
      "Natural Language Processing\n"
     ]
    }
   ],
   "source": [
    "Subfields()"
   ]
  },
  {
   "cell_type": "code",
   "execution_count": 81,
   "metadata": {},
   "outputs": [],
   "source": [
    "#create a function using-OddEven\n",
    "def OddEven():\n",
    "    num=int(input(\"Enter a Number: \"))\n",
    "    if(num%2)==0:\n",
    "        print(num,\"is Even number\")\n",
    "        msg=\"is Even number\"\n",
    "    else:\n",
    "        print(num,\"is Odd number\")\n",
    "        msg=\"is Odd number\"\n",
    "        return msg"
   ]
  },
  {
   "cell_type": "code",
   "execution_count": 82,
   "metadata": {},
   "outputs": [
    {
     "name": "stdout",
     "output_type": "stream",
     "text": [
      "Enter a Number: 4\n",
      "4 is Even number\n"
     ]
    }
   ],
   "source": [
    "OddEven()"
   ]
  },
  {
   "cell_type": "code",
   "execution_count": 90,
   "metadata": {},
   "outputs": [
    {
     "name": "stdout",
     "output_type": "stream",
     "text": [
      "Enter a Number: 4\n",
      "4 is Even number\n"
     ]
    }
   ],
   "source": [
    "msg=OddEven()"
   ]
  },
  {
   "cell_type": "code",
   "execution_count": 91,
   "metadata": {},
   "outputs": [],
   "source": [
    "msg"
   ]
  },
  {
   "cell_type": "code",
   "execution_count": 94,
   "metadata": {},
   "outputs": [
    {
     "name": "stdout",
     "output_type": "stream",
     "text": [
      "None\n"
     ]
    }
   ],
   "source": [
    "print(msg)"
   ]
  },
  {
   "cell_type": "code",
   "execution_count": 95,
   "metadata": {},
   "outputs": [
    {
     "name": "stdout",
     "output_type": "stream",
     "text": [
      "the given number is odd\n"
     ]
    }
   ],
   "source": [
    "if(msg==\"is Even number\"):\n",
    "    print(\"the given number is Even\")\n",
    "else:\n",
    "    print(\"the given number is odd\")"
   ]
  },
  {
   "cell_type": "code",
   "execution_count": 66,
   "metadata": {},
   "outputs": [],
   "source": [
    "def Eligible():\n",
    "    gen=input(\"Your Gender: \")\n",
    "    age=int(input(\"Your Age: \"))\n",
    "    if(age<=18):\n",
    "        print(\"Not Eligible\")\n",
    "        cat=\"Not Eligible\"\n",
    "    else:\n",
    "        print(\"Eligible\")\n",
    "        cat=\"Eligible\"\n",
    "        return cat"
   ]
  },
  {
   "cell_type": "code",
   "execution_count": 68,
   "metadata": {},
   "outputs": [
    {
     "name": "stdout",
     "output_type": "stream",
     "text": [
      "Your Gender: male\n",
      "Your Age: 18\n",
      "Not Eligible\n"
     ]
    }
   ],
   "source": [
    "Eligible()"
   ]
  },
  {
   "cell_type": "code",
   "execution_count": 33,
   "metadata": {},
   "outputs": [
    {
     "name": "stdout",
     "output_type": "stream",
     "text": [
      "Your Gender: male\n",
      "Your Age: 18\n",
      "Not Eligible\n"
     ]
    }
   ],
   "source": [
    "value=Eligible()"
   ]
  },
  {
   "cell_type": "code",
   "execution_count": 34,
   "metadata": {},
   "outputs": [
    {
     "name": "stdout",
     "output_type": "stream",
     "text": [
      "None\n"
     ]
    }
   ],
   "source": [
    "print(value)"
   ]
  },
  {
   "cell_type": "code",
   "execution_count": 64,
   "metadata": {},
   "outputs": [],
   "source": [
    "#create funtion using percentage\n",
    "def percentage():\n",
    "    sub1=int(input(\"Subject1: \"))\n",
    "    sub2=int(input(\"Subject2: \"))\n",
    "    sub3=int(input(\"Subject3: \"))\n",
    "    sub4=int(input(\"Subject4: \"))\n",
    "    sub5=int(input(\"Subject5: \"))\n",
    "    total=sub1+sub2+sub3+sub4+sub5\n",
    "    print(\"total: \",sub1+sub2+sub3+sub4+sub5)\n",
    "    percent=total/500*100\n",
    "    print(\"percentage: \",percent)\n",
    "    "
   ]
  },
  {
   "cell_type": "code",
   "execution_count": 65,
   "metadata": {},
   "outputs": [
    {
     "name": "stdout",
     "output_type": "stream",
     "text": [
      "Subject1: 23\n",
      "Subject2: 45\n",
      "Subject3: 34\n",
      "Subject4: 23\n",
      "Subject5: 23\n",
      "total:  148\n",
      "percentage:  29.599999999999998\n"
     ]
    }
   ],
   "source": [
    "percentage()"
   ]
  },
  {
   "cell_type": "code",
   "execution_count": 79,
   "metadata": {},
   "outputs": [],
   "source": [
    "#create a function using-triangle\n",
    "def triangle():\n",
    "    h=int(input(\"Height: \"))\n",
    "    b=int(input(\"Breadth: \"))\n",
    "    Area_formula=h*b/2\n",
    "    print(\"Area formula\",h*b/2)\n",
    "    Area_of_Triangle= Area_formula\n",
    "    print(\"Area of Triangle\",h*b/2)\n",
    "    h1=int(input(\"Height1: \"))\n",
    "    h2=int(input(\"Height2: \"))\n",
    "    b1=int(input(\"Breadth: \"))\n",
    "    perimeter_formula=h1+h2+b1\n",
    "    print(\"perimeter formula: \",h1+h2+b1)\n",
    "    print(\"perimeter of triangle: \",perimeter_formula)"
   ]
  },
  {
   "cell_type": "code",
   "execution_count": 80,
   "metadata": {},
   "outputs": [
    {
     "name": "stdout",
     "output_type": "stream",
     "text": [
      "Height: 3\n",
      "Breadth: 4\n",
      "Area formula 6.0\n",
      "Area of Triangle 6.0\n",
      "Height1: 3\n",
      "Height2: 4\n",
      "Breadth: 45\n",
      "perimeter formula:  52\n",
      "perimeter of triangle:  52\n"
     ]
    }
   ],
   "source": [
    "triangle()"
   ]
  },
  {
   "cell_type": "code",
   "execution_count": null,
   "metadata": {},
   "outputs": [],
   "source": []
  }
 ],
 "metadata": {
  "kernelspec": {
   "display_name": "Python 3",
   "language": "python",
   "name": "python3"
  },
  "language_info": {
   "codemirror_mode": {
    "name": "ipython",
    "version": 3
   },
   "file_extension": ".py",
   "mimetype": "text/x-python",
   "name": "python",
   "nbconvert_exporter": "python",
   "pygments_lexer": "ipython3",
   "version": "3.7.4"
  }
 },
 "nbformat": 4,
 "nbformat_minor": 2
}
